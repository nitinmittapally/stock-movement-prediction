{
 "cells": [
  {
   "cell_type": "code",
   "execution_count": 1,
   "metadata": {},
   "outputs": [],
   "source": [
    "import os                            \n",
    "import numpy   as np                 \n",
    "import pandas  as pd                \n",
    "from matplotlib import pyplot as plt \n",
    "import seaborn as sns                \n",
    "sns.set()                           \n",
    "import tensorflow as tf                                                   \n",
    "from   tensorflow.keras.preprocessing.sequence import TimeseriesGenerator \n"
   ]
  },
  {
   "cell_type": "code",
   "execution_count": 2,
   "metadata": {},
   "outputs": [],
   "source": [
    "train_start_date = \"2015-04-28\"\n",
    "train_end_date   = \"2017-12-31\"\n",
    "val_start_date   = \"2018-01-03\"\n",
    "val_end_date     = \"2018-12-31\"\n",
    "test_start_date  = \"2019-01-02\"\n",
    "test_end_date    = \"2020-01-31\""
   ]
  },
  {
   "cell_type": "code",
   "execution_count": 3,
   "metadata": {},
   "outputs": [],
   "source": [
    "all_data = pd.read_csv('all_close_volume.csv',  header = 0 , parse_dates = True, index_col = 0)\n",
    "\n",
    "\n",
    "\n",
    "all_data['amzn_return'] = all_data['amzn_close'] / all_data['amzn_close'].shift() - 1\n",
    "\n",
    "all_data['fb_return'] = all_data['fb_close'] / all_data['fb_close'].shift() - 1\n",
    "\n",
    "all_data['intc_return'] = all_data['intc_close'] / all_data['intc_close'].shift() - 1"
   ]
  },
  {
   "cell_type": "code",
   "execution_count": 5,
   "metadata": {},
   "outputs": [],
   "source": [
    "all_data['amzn_label'] = np.where(all_data['amzn_return'] > 0, 1, 0)\n",
    "\n",
    "all_data['fb_label'] = np.where(all_data['fb_return'] > 0, 1, 0)\n",
    "\n",
    "all_data['intc_label'] = np.where(all_data['intc_return'] > 0, 1, 0)"
   ]
  },
  {
   "cell_type": "code",
   "execution_count": 6,
   "metadata": {},
   "outputs": [],
   "source": [
    "all_data[\"amzn_std_return\"] = (all_data['amzn_return'] - all_data['amzn_return'][:val_start_date].mean()) / all_data['amzn_return'][:val_start_date].std()\n",
    "all_data[\"amzn_std_volume\"] = (all_data[\"amzn_volume\"] - all_data[\"amzn_volume\"].rolling(50).mean()) / all_data[\"amzn_volume\"].rolling(50).std()\n",
    "all_data[\"fb_std_return\"] = (all_data['fb_return'] - all_data['fb_return'][:val_start_date].mean()) / all_data['fb_return'][:val_start_date].std()\n",
    "all_data[\"fb_std_volume\"] = (all_data[\"fb_volume\"] - all_data[\"fb_volume\"].rolling(50).mean()) / all_data[\"fb_volume\"].rolling(50).std()\n",
    "all_data[\"intc_std_return\"] = (all_data['intc_return'] - all_data['intc_return'][:val_start_date].mean()) / all_data['intc_return'][:val_start_date].std()\n",
    "all_data[\"intc_std_volume\"] = (all_data[\"intc_volume\"] - all_data[\"intc_volume\"].rolling(50).mean()) / all_data[\"intc_volume\"].rolling(50).std()\n"
   ]
  },
  {
   "cell_type": "code",
   "execution_count": 7,
   "metadata": {},
   "outputs": [
    {
     "data": {
      "text/html": [
       "<div>\n",
       "<style scoped>\n",
       "    .dataframe tbody tr th:only-of-type {\n",
       "        vertical-align: middle;\n",
       "    }\n",
       "\n",
       "    .dataframe tbody tr th {\n",
       "        vertical-align: top;\n",
       "    }\n",
       "\n",
       "    .dataframe thead th {\n",
       "        text-align: right;\n",
       "    }\n",
       "</style>\n",
       "<table border=\"1\" class=\"dataframe\">\n",
       "  <thead>\n",
       "    <tr style=\"text-align: right;\">\n",
       "      <th></th>\n",
       "      <th>amzn_close</th>\n",
       "      <th>amzn_volume</th>\n",
       "      <th>fb_close</th>\n",
       "      <th>fb_volume</th>\n",
       "      <th>intc_close</th>\n",
       "      <th>intc_volume</th>\n",
       "      <th>amzn_return</th>\n",
       "      <th>fb_return</th>\n",
       "      <th>intc_return</th>\n",
       "      <th>amzn_label</th>\n",
       "      <th>fb_label</th>\n",
       "      <th>intc_label</th>\n",
       "      <th>amzn_std_return</th>\n",
       "      <th>amzn_std_volume</th>\n",
       "      <th>fb_std_return</th>\n",
       "      <th>fb_std_volume</th>\n",
       "      <th>intc_std_return</th>\n",
       "      <th>intc_std_volume</th>\n",
       "    </tr>\n",
       "    <tr>\n",
       "      <th>date</th>\n",
       "      <th></th>\n",
       "      <th></th>\n",
       "      <th></th>\n",
       "      <th></th>\n",
       "      <th></th>\n",
       "      <th></th>\n",
       "      <th></th>\n",
       "      <th></th>\n",
       "      <th></th>\n",
       "      <th></th>\n",
       "      <th></th>\n",
       "      <th></th>\n",
       "      <th></th>\n",
       "      <th></th>\n",
       "      <th></th>\n",
       "      <th></th>\n",
       "      <th></th>\n",
       "      <th></th>\n",
       "    </tr>\n",
       "  </thead>\n",
       "  <tbody>\n",
       "    <tr>\n",
       "      <th>2015-04-27</th>\n",
       "      <td>438.559998</td>\n",
       "      <td>5430900</td>\n",
       "      <td>81.910004</td>\n",
       "      <td>25446000</td>\n",
       "      <td>32.500000</td>\n",
       "      <td>25869600</td>\n",
       "      <td>-0.014693</td>\n",
       "      <td>0.004661</td>\n",
       "      <td>0.013092</td>\n",
       "      <td>0</td>\n",
       "      <td>1</td>\n",
       "      <td>1</td>\n",
       "      <td>-0.945425</td>\n",
       "      <td>0.998142</td>\n",
       "      <td>0.216846</td>\n",
       "      <td>-0.085915</td>\n",
       "      <td>0.923557</td>\n",
       "      <td>-0.396081</td>\n",
       "    </tr>\n",
       "    <tr>\n",
       "      <th>2015-04-28</th>\n",
       "      <td>429.309998</td>\n",
       "      <td>4140500</td>\n",
       "      <td>80.680000</td>\n",
       "      <td>23775300</td>\n",
       "      <td>33.020000</td>\n",
       "      <td>29572800</td>\n",
       "      <td>-0.021092</td>\n",
       "      <td>-0.015017</td>\n",
       "      <td>0.016000</td>\n",
       "      <td>0</td>\n",
       "      <td>0</td>\n",
       "      <td>1</td>\n",
       "      <td>-1.313774</td>\n",
       "      <td>0.429387</td>\n",
       "      <td>-1.068915</td>\n",
       "      <td>-0.254491</td>\n",
       "      <td>1.136361</td>\n",
       "      <td>-0.190070</td>\n",
       "    </tr>\n",
       "    <tr>\n",
       "      <th>2015-04-29</th>\n",
       "      <td>429.369995</td>\n",
       "      <td>3621700</td>\n",
       "      <td>80.470001</td>\n",
       "      <td>26430300</td>\n",
       "      <td>32.889999</td>\n",
       "      <td>21819000</td>\n",
       "      <td>0.000140</td>\n",
       "      <td>-0.002603</td>\n",
       "      <td>-0.003937</td>\n",
       "      <td>1</td>\n",
       "      <td>0</td>\n",
       "      <td>0</td>\n",
       "      <td>-0.091499</td>\n",
       "      <td>0.204200</td>\n",
       "      <td>-0.257783</td>\n",
       "      <td>-0.005027</td>\n",
       "      <td>-0.322712</td>\n",
       "      <td>-0.661090</td>\n",
       "    </tr>\n",
       "    <tr>\n",
       "      <th>2015-04-30</th>\n",
       "      <td>421.779999</td>\n",
       "      <td>3647900</td>\n",
       "      <td>78.769997</td>\n",
       "      <td>28999000</td>\n",
       "      <td>32.549999</td>\n",
       "      <td>22013300</td>\n",
       "      <td>-0.017677</td>\n",
       "      <td>-0.021126</td>\n",
       "      <td>-0.010337</td>\n",
       "      <td>0</td>\n",
       "      <td>0</td>\n",
       "      <td>0</td>\n",
       "      <td>-1.117193</td>\n",
       "      <td>0.206930</td>\n",
       "      <td>-1.468115</td>\n",
       "      <td>0.226284</td>\n",
       "      <td>-0.791124</td>\n",
       "      <td>-0.652965</td>\n",
       "    </tr>\n",
       "    <tr>\n",
       "      <th>2015-05-01</th>\n",
       "      <td>422.869995</td>\n",
       "      <td>3565800</td>\n",
       "      <td>78.989998</td>\n",
       "      <td>24136400</td>\n",
       "      <td>33.419998</td>\n",
       "      <td>27091200</td>\n",
       "      <td>0.002584</td>\n",
       "      <td>0.002793</td>\n",
       "      <td>0.026728</td>\n",
       "      <td>1</td>\n",
       "      <td>1</td>\n",
       "      <td>1</td>\n",
       "      <td>0.049230</td>\n",
       "      <td>0.165858</td>\n",
       "      <td>0.094789</td>\n",
       "      <td>-0.201021</td>\n",
       "      <td>1.921486</td>\n",
       "      <td>-0.371837</td>\n",
       "    </tr>\n",
       "  </tbody>\n",
       "</table>\n",
       "</div>"
      ],
      "text/plain": [
       "            amzn_close  amzn_volume   fb_close  fb_volume  intc_close  \\\n",
       "date                                                                    \n",
       "2015-04-27  438.559998      5430900  81.910004   25446000   32.500000   \n",
       "2015-04-28  429.309998      4140500  80.680000   23775300   33.020000   \n",
       "2015-04-29  429.369995      3621700  80.470001   26430300   32.889999   \n",
       "2015-04-30  421.779999      3647900  78.769997   28999000   32.549999   \n",
       "2015-05-01  422.869995      3565800  78.989998   24136400   33.419998   \n",
       "\n",
       "            intc_volume  amzn_return  fb_return  intc_return  amzn_label  \\\n",
       "date                                                                       \n",
       "2015-04-27     25869600    -0.014693   0.004661     0.013092           0   \n",
       "2015-04-28     29572800    -0.021092  -0.015017     0.016000           0   \n",
       "2015-04-29     21819000     0.000140  -0.002603    -0.003937           1   \n",
       "2015-04-30     22013300    -0.017677  -0.021126    -0.010337           0   \n",
       "2015-05-01     27091200     0.002584   0.002793     0.026728           1   \n",
       "\n",
       "            fb_label  intc_label  amzn_std_return  amzn_std_volume  \\\n",
       "date                                                                 \n",
       "2015-04-27         1           1        -0.945425         0.998142   \n",
       "2015-04-28         0           1        -1.313774         0.429387   \n",
       "2015-04-29         0           0        -0.091499         0.204200   \n",
       "2015-04-30         0           0        -1.117193         0.206930   \n",
       "2015-05-01         1           1         0.049230         0.165858   \n",
       "\n",
       "            fb_std_return  fb_std_volume  intc_std_return  intc_std_volume  \n",
       "date                                                                        \n",
       "2015-04-27       0.216846      -0.085915         0.923557        -0.396081  \n",
       "2015-04-28      -1.068915      -0.254491         1.136361        -0.190070  \n",
       "2015-04-29      -0.257783      -0.005027        -0.322712        -0.661090  \n",
       "2015-04-30      -1.468115       0.226284        -0.791124        -0.652965  \n",
       "2015-05-01       0.094789      -0.201021         1.921486        -0.371837  "
      ]
     },
     "execution_count": 7,
     "metadata": {},
     "output_type": "execute_result"
    }
   ],
   "source": [
    "all_data.dropna(inplace = True)\n",
    "all_data.head()"
   ]
  },
  {
   "cell_type": "code",
   "execution_count": 9,
   "metadata": {},
   "outputs": [],
   "source": [
    "val_start_iloc  = all_data.index.get_loc(val_start_date,  method = 'bfill') \n",
    "test_start_iloc = all_data.index.get_loc(test_start_date, method = 'bfill' )"
   ]
  },
  {
   "cell_type": "code",
   "execution_count": 10,
   "metadata": {},
   "outputs": [],
   "source": [
    "train_generator = TimeseriesGenerator(all_data[[\"amzn_std_return\", \"amzn_std_volume\", \"fb_std_return\", \"fb_std_volume\", \"intc_std_return\", \"intc_std_volume\"]].values, all_data[[\"intc_label\"]].values,\n",
    "                                      length = 7, batch_size = 64, end_index = val_start_iloc-1)\n",
    "val_generator   = TimeseriesGenerator(all_data[[\"amzn_std_return\", \"amzn_std_volume\", \"fb_std_return\", \"fb_std_volume\", \"intc_std_return\", \"intc_std_volume\"]].values, all_data[[\"intc_label\"]].values,\n",
    "                                    length = 7, batch_size = 64, start_index = val_start_iloc,\n",
    "                                    end_index = test_start_iloc-1)\n",
    "test_generator = TimeseriesGenerator(all_data[[\"amzn_std_return\", \"amzn_std_volume\", \"fb_std_return\", \"fb_std_volume\", \"intc_std_return\", \"intc_std_volume\"]].values, all_data[[\"intc_label\"]].values,\n",
    "                                     length = 7, batch_size = 64, start_index = test_start_iloc)"
   ]
  },
  {
   "cell_type": "code",
   "execution_count": 11,
   "metadata": {},
   "outputs": [],
   "source": [
    "def model_fn(params):\n",
    "    \n",
    "    model = tf.keras.Sequential()\n",
    "    model.add(tf.keras.layers.LSTM(params[\"lstm_size\"], input_shape = (7, 6))) \n",
    "    model.add(tf.keras.layers.Dropout(params[\"dropout\"])) #  regularisation\n",
    "    model.add(tf.keras.layers.Dropout(params[\"dropout\"]))\n",
    "    model.add(tf.keras.layers.Dense(1, activation = \"sigmoid\"))\n",
    "    \n",
    "    model.compile(optimizer = tf.keras.optimizers.Adam(params[\"learning_rate\"]),\n",
    "                  loss = \"binary_crossentropy\", metrics = [\"accuracy\"])            \n",
    "\n",
    "    callbacks = [tf.keras.callbacks.EarlyStopping(monitor = \"val_accuracy\", patience = 5,\n",
    "                                                  restore_best_weights = True)]\n",
    "    history   = model.fit_generator(train_generator, validation_data = val_generator,\n",
    "                                  callbacks = callbacks, epochs = 100, verbose = 0).history\n",
    "    \n",
    "    return (history, model)"
   ]
  },
  {
   "cell_type": "code",
   "execution_count": 12,
   "metadata": {},
   "outputs": [],
   "source": [
    "def random_search(model_fn, search_space, n_iter, search_dir):\n",
    "    \n",
    "    results = [] \n",
    "    \n",
    "    os.mkdir(search_dir) \n",
    "    \n",
    "    best_model_path = os.path.join(search_dir, \"best_model.h5\")\n",
    "    results_path    = os.path.join(search_dir, \"results.csv\")\n",
    "    \n",
    "    for i in range(n_iter):\n",
    "        \n",
    "        params           = {k: v[np.random.randint(len(v))] for k, v in search_space.items()}\n",
    "        history, model   = model_fn(params)\n",
    "        epochs           = np.argmax(history[\"val_accuracy\"]) + 1\n",
    "        result           = {k: v[epochs - 1] for k, v in history.items()}\n",
    "        params[\"epochs\"] = epochs\n",
    "        \n",
    "        if i == 0:\n",
    "            \n",
    "            best_val_accuracy = result[\"val_accuracy\"]\n",
    "            model.save(best_model_path)\n",
    "            \n",
    "        if result[\"val_accuracy\"] > best_val_accuracy:\n",
    "            best_val_accuracy = result[\"val_accuracy\"]\n",
    "            model.save(best_model_path)\n",
    "            \n",
    "        result = {**params, **result}\n",
    "        results.append(result)\n",
    "        tf.keras.backend.clear_session()\n",
    "        print(f\"iteration {i + 1} – {', '.join(f'{k}:{v:.4g}' for k, v in result.items())}\")\n",
    "        \n",
    "    best_model = tf.keras.models.load_model(best_model_path)\n",
    "    results    = pd.DataFrame(results)\n",
    "    \n",
    "    results.to_csv(results_path)\n",
    "    \n",
    "    return (results, best_model)"
   ]
  },
  {
   "cell_type": "code",
   "execution_count": 13,
   "metadata": {},
   "outputs": [],
   "source": [
    "search_space = {\"lstm_size\":     np.linspace(50, 200, 3, dtype = int),\n",
    "                \"dropout\":       np.linspace(0, 0.4, 2),\n",
    "                \"learning_rate\": np.linspace(0.004, 0.01, 5)}"
   ]
  },
  {
   "cell_type": "code",
   "execution_count": 14,
   "metadata": {},
   "outputs": [
    {
     "name": "stderr",
     "output_type": "stream",
     "text": [
      "C:\\Users\\lokes\\anaconda3\\lib\\site-packages\\tensorflow\\python\\keras\\engine\\training.py:1940: UserWarning: `Model.fit_generator` is deprecated and will be removed in a future version. Please use `Model.fit`, which supports generators.\n",
      "  warnings.warn('`Model.fit_generator` is deprecated and '\n"
     ]
    },
    {
     "name": "stdout",
     "output_type": "stream",
     "text": [
      "iteration 1 – lstm_size:200, dropout:0, learning_rate:0.0085, epochs:4, loss:0.6654, accuracy:0.6021, val_loss:0.6963, val_accuracy:0.5473\n",
      "iteration 2 – lstm_size:50, dropout:0, learning_rate:0.007, epochs:2, loss:0.6758, accuracy:0.5738, val_loss:0.6988, val_accuracy:0.5267\n",
      "iteration 3 – lstm_size:125, dropout:0, learning_rate:0.007, epochs:1, loss:0.6998, accuracy:0.5276, val_loss:0.6901, val_accuracy:0.5514\n",
      "iteration 4 – lstm_size:125, dropout:0, learning_rate:0.0085, epochs:5, loss:0.655, accuracy:0.611, val_loss:0.7139, val_accuracy:0.5391\n",
      "iteration 5 – lstm_size:50, dropout:0.4, learning_rate:0.0085, epochs:2, loss:0.6918, accuracy:0.5544, val_loss:0.6932, val_accuracy:0.5432\n",
      "iteration 6 – lstm_size:125, dropout:0, learning_rate:0.0085, epochs:10, loss:0.5096, accuracy:0.7437, val_loss:0.9278, val_accuracy:0.5597\n",
      "iteration 7 – lstm_size:200, dropout:0.4, learning_rate:0.01, epochs:1, loss:0.7106, accuracy:0.5171, val_loss:0.7026, val_accuracy:0.4979\n",
      "iteration 8 – lstm_size:200, dropout:0, learning_rate:0.0085, epochs:7, loss:0.6089, accuracy:0.6587, val_loss:0.7436, val_accuracy:0.5432\n",
      "iteration 9 – lstm_size:125, dropout:0, learning_rate:0.007, epochs:1, loss:0.6912, accuracy:0.5678, val_loss:0.694, val_accuracy:0.5309\n",
      "iteration 10 – lstm_size:200, dropout:0.4, learning_rate:0.0085, epochs:4, loss:0.6825, accuracy:0.5648, val_loss:0.6945, val_accuracy:0.5226\n",
      "iteration 11 – lstm_size:200, dropout:0, learning_rate:0.01, epochs:10, loss:0.4943, accuracy:0.7347, val_loss:0.9739, val_accuracy:0.5391\n",
      "iteration 12 – lstm_size:50, dropout:0.4, learning_rate:0.007, epochs:1, loss:0.6962, accuracy:0.5365, val_loss:0.6944, val_accuracy:0.5267\n",
      "iteration 13 – lstm_size:125, dropout:0, learning_rate:0.0055, epochs:6, loss:0.6397, accuracy:0.614, val_loss:0.7063, val_accuracy:0.5597\n",
      "iteration 14 – lstm_size:200, dropout:0.4, learning_rate:0.0055, epochs:4, loss:0.6802, accuracy:0.5708, val_loss:0.7036, val_accuracy:0.5514\n",
      "iteration 15 – lstm_size:50, dropout:0.4, learning_rate:0.01, epochs:5, loss:0.6791, accuracy:0.5782, val_loss:0.6954, val_accuracy:0.5391\n",
      "iteration 16 – lstm_size:200, dropout:0.4, learning_rate:0.01, epochs:6, loss:0.6797, accuracy:0.5753, val_loss:0.7045, val_accuracy:0.5885\n",
      "iteration 17 – lstm_size:50, dropout:0, learning_rate:0.01, epochs:8, loss:0.6171, accuracy:0.6423, val_loss:0.7597, val_accuracy:0.5679\n",
      "iteration 18 – lstm_size:50, dropout:0, learning_rate:0.0085, epochs:2, loss:0.6758, accuracy:0.5738, val_loss:0.6921, val_accuracy:0.5226\n",
      "iteration 19 – lstm_size:125, dropout:0, learning_rate:0.0055, epochs:6, loss:0.6395, accuracy:0.6453, val_loss:0.7288, val_accuracy:0.5556\n",
      "iteration 20 – lstm_size:200, dropout:0.4, learning_rate:0.01, epochs:1, loss:0.7051, accuracy:0.535, val_loss:0.687, val_accuracy:0.5432\n"
     ]
    }
   ],
   "source": [
    "iterations          = 20\n",
    "results, best_model = random_search(model_fn, search_space, iterations, \"search_new\")"
   ]
  },
  {
   "cell_type": "code",
   "execution_count": 15,
   "metadata": {},
   "outputs": [
    {
     "data": {
      "text/html": [
       "<div>\n",
       "<style scoped>\n",
       "    .dataframe tbody tr th:only-of-type {\n",
       "        vertical-align: middle;\n",
       "    }\n",
       "\n",
       "    .dataframe tbody tr th {\n",
       "        vertical-align: top;\n",
       "    }\n",
       "\n",
       "    .dataframe thead th {\n",
       "        text-align: right;\n",
       "    }\n",
       "</style>\n",
       "<table border=\"1\" class=\"dataframe\">\n",
       "  <thead>\n",
       "    <tr style=\"text-align: right;\">\n",
       "      <th></th>\n",
       "      <th>lstm_size</th>\n",
       "      <th>dropout</th>\n",
       "      <th>learning_rate</th>\n",
       "      <th>epochs</th>\n",
       "      <th>loss</th>\n",
       "      <th>accuracy</th>\n",
       "      <th>val_loss</th>\n",
       "      <th>val_accuracy</th>\n",
       "    </tr>\n",
       "  </thead>\n",
       "  <tbody>\n",
       "    <tr>\n",
       "      <th>15</th>\n",
       "      <td>200</td>\n",
       "      <td>0.4</td>\n",
       "      <td>0.0100</td>\n",
       "      <td>6</td>\n",
       "      <td>0.679721</td>\n",
       "      <td>0.575261</td>\n",
       "      <td>0.704499</td>\n",
       "      <td>0.588477</td>\n",
       "    </tr>\n",
       "    <tr>\n",
       "      <th>16</th>\n",
       "      <td>50</td>\n",
       "      <td>0.0</td>\n",
       "      <td>0.0100</td>\n",
       "      <td>8</td>\n",
       "      <td>0.617130</td>\n",
       "      <td>0.642325</td>\n",
       "      <td>0.759704</td>\n",
       "      <td>0.567901</td>\n",
       "    </tr>\n",
       "    <tr>\n",
       "      <th>12</th>\n",
       "      <td>125</td>\n",
       "      <td>0.0</td>\n",
       "      <td>0.0055</td>\n",
       "      <td>6</td>\n",
       "      <td>0.639735</td>\n",
       "      <td>0.614009</td>\n",
       "      <td>0.706307</td>\n",
       "      <td>0.559671</td>\n",
       "    </tr>\n",
       "    <tr>\n",
       "      <th>5</th>\n",
       "      <td>125</td>\n",
       "      <td>0.0</td>\n",
       "      <td>0.0085</td>\n",
       "      <td>10</td>\n",
       "      <td>0.509570</td>\n",
       "      <td>0.743666</td>\n",
       "      <td>0.927806</td>\n",
       "      <td>0.559671</td>\n",
       "    </tr>\n",
       "    <tr>\n",
       "      <th>18</th>\n",
       "      <td>125</td>\n",
       "      <td>0.0</td>\n",
       "      <td>0.0055</td>\n",
       "      <td>6</td>\n",
       "      <td>0.639527</td>\n",
       "      <td>0.645306</td>\n",
       "      <td>0.728834</td>\n",
       "      <td>0.555556</td>\n",
       "    </tr>\n",
       "  </tbody>\n",
       "</table>\n",
       "</div>"
      ],
      "text/plain": [
       "    lstm_size  dropout  learning_rate  epochs      loss  accuracy  val_loss  \\\n",
       "15        200      0.4         0.0100       6  0.679721  0.575261  0.704499   \n",
       "16         50      0.0         0.0100       8  0.617130  0.642325  0.759704   \n",
       "12        125      0.0         0.0055       6  0.639735  0.614009  0.706307   \n",
       "5         125      0.0         0.0085      10  0.509570  0.743666  0.927806   \n",
       "18        125      0.0         0.0055       6  0.639527  0.645306  0.728834   \n",
       "\n",
       "    val_accuracy  \n",
       "15      0.588477  \n",
       "16      0.567901  \n",
       "12      0.559671  \n",
       "5       0.559671  \n",
       "18      0.555556  "
      ]
     },
     "execution_count": 15,
     "metadata": {},
     "output_type": "execute_result"
    }
   ],
   "source": [
    "results.sort_values(\"val_accuracy\", ascending = False).head()"
   ]
  },
  {
   "cell_type": "code",
   "execution_count": 16,
   "metadata": {},
   "outputs": [
    {
     "name": "stderr",
     "output_type": "stream",
     "text": [
      "C:\\Users\\lokes\\anaconda3\\lib\\site-packages\\tensorflow\\python\\keras\\engine\\training.py:1973: UserWarning: `Model.evaluate_generator` is deprecated and will be removed in a future version. Please use `Model.evaluate`, which supports generators.\n",
      "  warnings.warn('`Model.evaluate_generator` is deprecated and '\n"
     ]
    },
    {
     "data": {
      "text/plain": [
       "[0.7208316922187805, 0.5364963412284851]"
      ]
     },
     "execution_count": 16,
     "metadata": {},
     "output_type": "execute_result"
    }
   ],
   "source": [
    "best_model.evaluate_generator(test_generator)"
   ]
  },
  {
   "cell_type": "code",
   "execution_count": 17,
   "metadata": {},
   "outputs": [],
   "source": [
    "heatmap_data=all_data[['amzn_std_return','amzn_std_volume','fb_std_return','fb_std_volume','intc_std_return','intc_std_volume','intc_label']].copy()"
   ]
  },
  {
   "cell_type": "code",
   "execution_count": 18,
   "metadata": {},
   "outputs": [
    {
     "data": {
      "text/plain": [
       "Text(0.5, 1, 'Correlation of different variables to Intel price movement')"
      ]
     },
     "execution_count": 18,
     "metadata": {},
     "output_type": "execute_result"
    },
    {
     "data": {
      "image/png": "[encoded data removed]",
      "text/plain": [
       "<Figure size 432x288 with 2 Axes>"
      ]
     },
     "metadata": {},
     "output_type": "display_data"
    }
   ],
   "source": [
    "heatmap=sns.heatmap(heatmap_data.corr()[['intc_label']].sort_values(by='intc_label', ascending=False), vmin=-1, vmax=1, annot=False)\n",
    "heatmap.set_title('Correlation of different variables to Intel price movement', fontdict={'fontsize':18}, pad=16)"
   ]
  },
  {
   "cell_type": "code",
   "execution_count": null,
   "metadata": {},
   "outputs": [],
   "source": []
  }
 ],
 "metadata": {
  "kernelspec": {
   "display_name": "Python 3",
   "language": "python",
   "name": "python3"
  },
  "language_info": {
   "codemirror_mode": {
    "name": "ipython",
    "version": 3
   },
   "file_extension": ".py",
   "mimetype": "text/x-python",
   "name": "python",
   "nbconvert_exporter": "python",
   "pygments_lexer": "ipython3",
   "version": "3.8.5"
  }
 },
 "nbformat": 4,
 "nbformat_minor": 4
}
